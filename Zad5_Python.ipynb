{
  "nbformat": 4,
  "nbformat_minor": 0,
  "metadata": {
    "colab": {
      "provenance": [],
      "authorship_tag": "ABX9TyOJXLqSGgnI/AaHpd+8Sgho",
      "include_colab_link": true
    },
    "kernelspec": {
      "name": "python3",
      "display_name": "Python 3"
    },
    "language_info": {
      "name": "python"
    }
  },
  "cells": [
    {
      "cell_type": "markdown",
      "metadata": {
        "id": "view-in-github",
        "colab_type": "text"
      },
      "source": [
        "<a href=\"https://colab.research.google.com/github/Sebastianlpu23/LAB4/blob/master/Zad5_Python.ipynb\" target=\"_parent\"><img src=\"https://colab.research.google.com/assets/colab-badge.svg\" alt=\"Open In Colab\"/></a>"
      ]
    },
    {
      "cell_type": "code",
      "execution_count": 1,
      "metadata": {
        "colab": {
          "base_uri": "https://localhost:8080/"
        },
        "id": "qdg2Z8FUf6KF",
        "outputId": "410f563c-eeb5-4ba1-b0df-25bf677ffacb"
      },
      "outputs": [
        {
          "output_type": "stream",
          "name": "stdout",
          "text": [
            "Imię: John\n",
            "Numer indeksu: 12345\n",
            "Nowe imię: Alice\n",
            "Nowy numer indeksu: 54321\n"
          ]
        }
      ],
      "source": [
        "class Student:\n",
        "    def __init__(self, name, roll_number):\n",
        "        self.__name = name  # Prywatna właściwość name\n",
        "        self.__roll_number = roll_number  # Prywatna właściwość roll_number\n",
        "\n",
        "    # Metoda do pobierania wartości właściwości name\n",
        "    def getName(self):\n",
        "        return self.__name\n",
        "\n",
        "    # Metoda do ustawiania wartości właściwości name\n",
        "    def setName(self, name):\n",
        "        self.__name = name\n",
        "\n",
        "    # Metoda do pobierania wartości właściwości roll_number\n",
        "    def getRollNumber(self):\n",
        "        return self.__roll_number\n",
        "\n",
        "    # Metoda do ustawiania wartości właściwości roll_number\n",
        "    def setRollNumber(self, roll_number):\n",
        "        self.__roll_number = roll_number\n",
        "\n",
        "# Przykład użycia klasy Student\n",
        "student = Student(\"John\", 12345)\n",
        "\n",
        "# Pobieranie wartości właściwości name i roll_number\n",
        "name = student.getName()\n",
        "roll_number = student.getRollNumber()\n",
        "print(\"Imię:\", name)\n",
        "print(\"Numer indeksu:\", roll_number)\n",
        "\n",
        "# Ustawianie nowych wartości właściwości name i roll_number\n",
        "student.setName(\"Alice\")\n",
        "student.setRollNumber(54321)\n",
        "\n",
        "new_name = student.getName()\n",
        "new_roll_number = student.getRollNumber()\n",
        "print(\"Nowe imię:\", new_name)\n",
        "print(\"Nowy numer indeksu:\", new_roll_number)\n"
      ]
    }
  ]
}